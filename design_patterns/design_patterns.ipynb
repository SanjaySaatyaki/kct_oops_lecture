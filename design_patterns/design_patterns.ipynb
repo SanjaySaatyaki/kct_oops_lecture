{
 "cells": [
  {
   "cell_type": "markdown",
   "id": "55993e6d",
   "metadata": {
    "slideshow": {
     "slide_type": "slide"
    },
    "vscode": {
     "languageId": "plaintext"
    }
   },
   "source": [
    "# Builder Pattern\n",
    "- some objects are simple and can be created in single initalizer call\n",
    "- Other require lot of ceremony to create\n",
    "- Having an object with 10 initalizer arguments is not productive\n",
    "- Instead opt for piecewise construction\n",
    "- builder provides an API for constructing an object step-by-step\n"
   ]
  },
  {
   "cell_type": "code",
   "execution_count": 1,
   "id": "0156361b",
   "metadata": {
    "slideshow": {
     "slide_type": "subslide"
    }
   },
   "outputs": [
    {
     "name": "stdout",
     "output_type": "stream",
     "text": [
      "<p>hello</p>\n"
     ]
    }
   ],
   "source": [
    "text = 'hello'\n",
    "parts = ['<p>',text,'</p>']\n",
    "print(\"\".join(parts))"
   ]
  },
  {
   "cell_type": "markdown",
   "id": "53e8e5c4",
   "metadata": {
    "slideshow": {
     "slide_type": "notes"
    }
   },
   "source": [
    "Trying to build a html file with paragraphs"
   ]
  },
  {
   "cell_type": "code",
   "execution_count": 2,
   "id": "c4b9ab38",
   "metadata": {
    "slideshow": {
     "slide_type": "subslide"
    }
   },
   "outputs": [
    {
     "name": "stdout",
     "output_type": "stream",
     "text": [
      "<ul>\n",
      "<li>hello</li>\n",
      "<li>world</li>\n",
      "</ul\n"
     ]
    }
   ],
   "source": [
    "words = ['hello', 'world']\n",
    "parts = ['<ul>']\n",
    "for w in words:\n",
    "    parts.append(f'<li>{w}</li>')\n",
    "parts.append('</ul')\n",
    "print(\"\\n\".join(parts))"
   ]
  },
  {
   "cell_type": "code",
   "execution_count": 3,
   "id": "a7aa21dd",
   "metadata": {
    "slideshow": {
     "slide_type": "subslide"
    }
   },
   "outputs": [],
   "source": [
    "class html_element:\n",
    "    indent_size = 2\n",
    "\n",
    "    def __init__(self, name='', text=''):\n",
    "        self.text = text\n",
    "        self.name = name\n",
    "        self.elements = []\n",
    "    \n",
    "    def __str(self, indent):\n",
    "        lines = []\n",
    "        i = ' ' * (indent * self.indent_size)\n",
    "        lines.append(f'{i}<{self.name}>')\n",
    "\n",
    "        if self.text:\n",
    "            i1 = ' ' * ((indent + 1) * self.indent_size)\n",
    "            lines.append(f'{i1}{self.text}')\n",
    "\n",
    "        for e in self.elements:\n",
    "            lines.append(e.__str(indent + 1))\n",
    "\n",
    "        lines.append(f'{i}</{self.name}>')\n",
    "        return '\\n'.join(lines)\n",
    "    \n",
    "    def __str__(self):\n",
    "        return self.__str(0)\n",
    "    \n",
    "    @staticmethod\n",
    "    def create(name):\n",
    "        return html_builder(name)"
   ]
  },
  {
   "cell_type": "code",
   "execution_count": 4,
   "id": "194a3613",
   "metadata": {
    "slideshow": {
     "slide_type": "subslide"
    }
   },
   "outputs": [],
   "source": [
    "class html_builder:\n",
    "    def __init__(self, root_name):\n",
    "        self.root_name = root_name\n",
    "        self.__root = html_element(root_name)\n",
    "    \n",
    "    def add_child(self, child_name, child_text):\n",
    "        self.__root.elements.append(\n",
    "            html_element(child_name, child_text)\n",
    "        )\n",
    "    \n",
    "    def add_child_fluent(self, child_name, child_text):\n",
    "        self.__root.elements.append(\n",
    "            html_element(child_name, child_text)\n",
    "        )\n",
    "        return self\n",
    "\n",
    "    def __str__(self):\n",
    "        return str(self.__root)\n"
   ]
  },
  {
   "cell_type": "code",
   "execution_count": 5,
   "id": "78c3a215",
   "metadata": {
    "slideshow": {
     "slide_type": "subslide"
    }
   },
   "outputs": [
    {
     "name": "stdout",
     "output_type": "stream",
     "text": [
      "---------------\n",
      "Builder\n",
      "---------------\n",
      "<ul>\n",
      "  <li>\n",
      "    hello\n",
      "  </li>\n",
      "  <li>\n",
      "    world\n",
      "  </li>\n",
      "</ul>\n",
      "---------------\n"
     ]
    }
   ],
   "source": [
    "builder = html_builder('ul')\n",
    "builder.add_child('li','hello')\n",
    "builder.add_child('li','world')\n",
    "print(\"---------------\")\n",
    "print('Builder')\n",
    "print(\"---------------\")\n",
    "print(builder)\n",
    "print(\"---------------\")"
   ]
  },
  {
   "cell_type": "code",
   "execution_count": 7,
   "id": "454933b9",
   "metadata": {
    "slideshow": {
     "slide_type": "subslide"
    }
   },
   "outputs": [
    {
     "name": "stdout",
     "output_type": "stream",
     "text": [
      "---------------\n",
      "Builder\n",
      "---------------\n",
      "<ul>\n",
      "  <li>\n",
      "    hello\n",
      "  </li>\n",
      "  <li>\n",
      "    world\n",
      "  </li>\n",
      "</ul>\n",
      "---------------\n"
     ]
    }
   ],
   "source": [
    "builder = html_builder('ul')\n",
    "builder.add_child_fluent('li','hello').\\\n",
    "    add_child_fluent('li','world')\n",
    "print(\"---------------\")\n",
    "print('Builder')\n",
    "print(\"---------------\")\n",
    "print(builder)\n",
    "print(\"---------------\")"
   ]
  },
  {
   "cell_type": "code",
   "execution_count": 8,
   "id": "f9184607",
   "metadata": {
    "slideshow": {
     "slide_type": "subslide"
    }
   },
   "outputs": [
    {
     "name": "stdout",
     "output_type": "stream",
     "text": [
      "---------------\n",
      "Builder\n",
      "---------------\n",
      "<ul>\n",
      "  <li>\n",
      "    hello\n",
      "  </li>\n",
      "  <li>\n",
      "    world\n",
      "  </li>\n",
      "</ul>\n",
      "---------------\n"
     ]
    }
   ],
   "source": [
    "builder = html_element.create('ul')\n",
    "builder.add_child('li','hello')\n",
    "builder.add_child('li','world')\n",
    "print(\"---------------\")\n",
    "print('Builder')\n",
    "print(\"---------------\")\n",
    "print(builder)\n",
    "print(\"---------------\")"
   ]
  },
  {
   "cell_type": "code",
   "execution_count": 9,
   "id": "10c7b2c1",
   "metadata": {
    "slideshow": {
     "slide_type": "subslide"
    }
   },
   "outputs": [],
   "source": [
    "class Person:\n",
    "    def __init__(self):\n",
    "        # address\n",
    "        self.street_number = None\n",
    "        self.post_code = None\n",
    "        self.city = None\n",
    "\n",
    "        # employment\n",
    "        self.company = None\n",
    "        self.position = None\n",
    "        self.annual_income = None\n",
    "    \n",
    "    def __str__(self):\n",
    "        return f'Address: {self.street_number}, {self.post_code}, {self.city} ' + \\\n",
    "                f'Employed at {self.company} as {self.position} and earning {self.annual_income}'\n"
   ]
  },
  {
   "cell_type": "code",
   "execution_count": 10,
   "id": "9acf7794",
   "metadata": {
    "slideshow": {
     "slide_type": "subslide"
    }
   },
   "outputs": [],
   "source": [
    "class PersonBuilder:\n",
    "    def __init__(self, person=Person()):\n",
    "        if person is None:\n",
    "            self.person = Person()\n",
    "        else:\n",
    "            self.person = person\n",
    "    \n",
    "    @property\n",
    "    def lives(self):\n",
    "        return PersonAddressBuilder(self.person)\n",
    "\n",
    "    @property\n",
    "    def works(self):\n",
    "        return PersonJobBuilder(self.person)\n",
    "    \n",
    "    def build(self):\n",
    "        return self.person"
   ]
  },
  {
   "cell_type": "code",
   "execution_count": 11,
   "id": "c0d3ea7c",
   "metadata": {
    "slideshow": {
     "slide_type": "subslide"
    }
   },
   "outputs": [],
   "source": [
    "class PersonJobBuilder(PersonBuilder):\n",
    "    def __init__(self, person):\n",
    "        super().__init__(person)\n",
    "    \n",
    "    def at(self, company_name):\n",
    "        self.person.company = company_name\n",
    "        return self\n",
    "    \n",
    "    def as_a(self, position):\n",
    "        self.person.position = position\n",
    "        return self\n",
    "    \n",
    "    def earning(self, annual_income):\n",
    "        self.person.annual_income = annual_income\n",
    "        return self"
   ]
  },
  {
   "cell_type": "code",
   "execution_count": 12,
   "id": "6734b702",
   "metadata": {
    "slideshow": {
     "slide_type": "subslide"
    }
   },
   "outputs": [],
   "source": [
    "class PersonAddressBuilder(PersonBuilder):\n",
    "    def __init__(self, person):\n",
    "        super().__init__(person)\n",
    "\n",
    "    def at(self, street_address):\n",
    "        self.person.street_number = street_address\n",
    "        return self\n",
    "\n",
    "    def with_postcode(self, postcode):\n",
    "        self.person.post_code = postcode\n",
    "        return self\n",
    "\n",
    "    def in_city(self, city):\n",
    "        self.person.city = city\n",
    "        return self"
   ]
  },
  {
   "cell_type": "code",
   "execution_count": 13,
   "id": "3c1c8063",
   "metadata": {
    "slideshow": {
     "slide_type": "subslide"
    }
   },
   "outputs": [
    {
     "name": "stdout",
     "output_type": "stream",
     "text": [
      "Address: 1234, 641039, cbe Employed at ABC Company as Engineer and earning 1234\n"
     ]
    }
   ],
   "source": [
    "pb = PersonBuilder()\n",
    "person = pb\\\n",
    "        .lives.at('1234').in_city('cbe').with_postcode('641039')\\\n",
    "        .works.at('ABC Company').as_a('Engineer').earning(1234).build()\n",
    "\n",
    "print(person)"
   ]
  },
  {
   "cell_type": "markdown",
   "id": "d4daa452",
   "metadata": {
    "slideshow": {
     "slide_type": "slide"
    }
   },
   "source": [
    "# Factory Pattern\n",
    "- Object Creation login becomes too convoluted\n",
    "- Initalizer is not descriptive\n",
    "    - Cannot overload with same sets of arguments with differnt names\n",
    "- Wholesale Object creation(non-piecewise, unlike builder) can be outsourced\n",
    "    - A seperate method(Factory Method)\n",
    "    - That may exist in a seperate class(Factory)"
   ]
  },
  {
   "cell_type": "code",
   "execution_count": 15,
   "id": "5430f65b",
   "metadata": {
    "slideshow": {
     "slide_type": "subslide"
    }
   },
   "outputs": [],
   "source": [
    "class Point:\n",
    "    def __init__(self,x, y):\n",
    "        self.x = x\n",
    "        self.y = y\n",
    "    \n",
    "    def __init__(self, rho, theta):\n",
    "        self.rho = rho\n",
    "        self.theta = theta"
   ]
  },
  {
   "cell_type": "markdown",
   "id": "189767a4",
   "metadata": {
    "slideshow": {
     "slide_type": "notes"
    }
   },
   "source": [
    "cant be done because init can be overloaded with same values"
   ]
  },
  {
   "cell_type": "code",
   "execution_count": 16,
   "id": "abff91e3",
   "metadata": {
    "slideshow": {
     "slide_type": "subslide"
    }
   },
   "outputs": [],
   "source": [
    "from enum import Enum\n",
    "from math import *\n",
    "class CoordinateSystem(Enum):\n",
    "    CARTESIAN = 1\n",
    "    POLAR = 2\n",
    "\n",
    "class Point:\n",
    "    def __init__(self, a, b, system):\n",
    "        if system == CoordinateSystem.CARTESIAN:\n",
    "            self.x = a\n",
    "            self.y = b\n",
    "        if system == CoordinateSystem.POLAR:\n",
    "            self.x = a *cos(b)\n",
    "            self.y = a *sin(b)"
   ]
  },
  {
   "cell_type": "code",
   "execution_count": 17,
   "id": "b92c5100",
   "metadata": {
    "slideshow": {
     "slide_type": "subslide"
    }
   },
   "outputs": [],
   "source": [
    "class Point:\n",
    "    def __init__(self, x, y):\n",
    "        self.x = x\n",
    "        self.y = y\n",
    "    \n",
    "    def __str__(self):\n",
    "        return f'x: {self.x} y: {self.y}'\n",
    "    \n",
    "    @staticmethod\n",
    "    def new_cartesian_point(x,y):\n",
    "        return Point(x,y)\n",
    "\n",
    "    @staticmethod\n",
    "    def new_polar_point(rho, theta):\n",
    "        return Point(rho*cos(theta), rho*sin(theta))"
   ]
  },
  {
   "cell_type": "code",
   "execution_count": 18,
   "id": "3e2d363a",
   "metadata": {
    "slideshow": {
     "slide_type": "subslide"
    }
   },
   "outputs": [
    {
     "name": "stdout",
     "output_type": "stream",
     "text": [
      "x: 2 y: 2\n",
      "x: -0.8322936730942848 y: 1.8185948536513634\n"
     ]
    }
   ],
   "source": [
    "p = Point(2,2)\n",
    "p1 = Point.new_cartesian_point(2,2)\n",
    "print(p1)\n",
    "p2 = Point.new_polar_point(2,2)\n",
    "print(p2)"
   ]
  },
  {
   "cell_type": "code",
   "execution_count": 19,
   "id": "ffea35e3",
   "metadata": {
    "slideshow": {
     "slide_type": "subslide"
    }
   },
   "outputs": [
    {
     "name": "stdout",
     "output_type": "stream",
     "text": [
      "x: 2 y: 2\n",
      "x: -0.8322936730942848 y: 1.8185948536513634\n"
     ]
    }
   ],
   "source": [
    "class PointFactory:\n",
    "    @staticmethod\n",
    "    def new_cartesian_point(x,y):\n",
    "        return Point(x,y)\n",
    "\n",
    "    @staticmethod\n",
    "    def new_polar_point(rho, theta):\n",
    "        return Point(rho*cos(theta), rho*sin(theta))\n",
    "\n",
    "p1 = PointFactory.new_cartesian_point(2,2)\n",
    "print(p1)\n",
    "p2 = PointFactory.new_polar_point(2,2)\n",
    "print(p2)"
   ]
  },
  {
   "cell_type": "code",
   "execution_count": 20,
   "id": "65d25c53",
   "metadata": {
    "slideshow": {
     "slide_type": "subslide"
    }
   },
   "outputs": [
    {
     "name": "stdout",
     "output_type": "stream",
     "text": [
      "x: 2 y: 2\n"
     ]
    }
   ],
   "source": [
    "class Point:\n",
    "    def __init__(self, x=0, y=0):\n",
    "        self.x = x\n",
    "        self.y = y\n",
    "    \n",
    "    def __str__(self):\n",
    "        return f'x: {self.x} y: {self.y}'\n",
    "    class PointFactory:\n",
    "        def new_cartesian_point(x,y):\n",
    "            return Point(x,y)\n",
    "\n",
    "        def new_polar_point( rho, theta):\n",
    "            return Point(rho*cos(theta), rho*sin(theta))\n",
    "\n",
    "p1 = Point.PointFactory.new_cartesian_point(2,2)\n",
    "print(p1)"
   ]
  },
  {
   "cell_type": "code",
   "execution_count": null,
   "id": "f520bf8c",
   "metadata": {},
   "outputs": [],
   "source": []
  }
 ],
 "metadata": {
  "celltoolbar": "Slideshow",
  "kernelspec": {
   "display_name": "Python 3 (ipykernel)",
   "language": "python",
   "name": "python3"
  },
  "language_info": {
   "codemirror_mode": {
    "name": "ipython",
    "version": 3
   },
   "file_extension": ".py",
   "mimetype": "text/x-python",
   "name": "python",
   "nbconvert_exporter": "python",
   "pygments_lexer": "ipython3",
   "version": "3.11.11"
  }
 },
 "nbformat": 4,
 "nbformat_minor": 5
}
