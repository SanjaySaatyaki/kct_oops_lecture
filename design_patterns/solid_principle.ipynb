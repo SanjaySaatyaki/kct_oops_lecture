{
 "cells": [
  {
   "cell_type": "markdown",
   "id": "2374faa2",
   "metadata": {
    "slideshow": {
     "slide_type": "slide"
    },
    "vscode": {
     "languageId": "plaintext"
    }
   },
   "source": [
    "## Single Responsibility Principle\n",
    "Class should have primary responsibilty shouldn't take other responsiblities"
   ]
  },
  {
   "cell_type": "code",
   "execution_count": 2,
   "id": "cb28aa59",
   "metadata": {
    "slideshow": {
     "slide_type": "subslide"
    }
   },
   "outputs": [
    {
     "name": "stdout",
     "output_type": "stream",
     "text": [
      "Journal Entries: \n",
      "1 : I am happy\n",
      "2 : I ate well\n"
     ]
    }
   ],
   "source": [
    "class Journal:\n",
    "    def __init__(self):\n",
    "        self.entries = []\n",
    "        self.count = 0\n",
    "    \n",
    "    def add_entry(self, text):\n",
    "        self.count +=1\n",
    "        self.entries.append(f\"{self.count} : {text}\")\n",
    "    \n",
    "    def remove_entry(self, pos):\n",
    "        del self.entries[pos]\n",
    "\n",
    "    def __str__(self):\n",
    "        return '\\n'.join(self.entries)\n",
    "    \n",
    "j = Journal()\n",
    "j.add_entry('I am happy')\n",
    "j.add_entry('I ate well')\n",
    "print(f\"Journal Entries: \\n{j}\")"
   ]
  },
  {
   "cell_type": "code",
   "execution_count": null,
   "id": "f62297e5",
   "metadata": {
    "slideshow": {
     "slide_type": "subslide"
    }
   },
   "outputs": [],
   "source": [
    "## Breaking Single Responsiblity Principle\n",
    "class Journal:\n",
    "    def __init__(self):\n",
    "        self.entries = []\n",
    "        self.count = 0\n",
    "    \n",
    "    def add_entry(self, text):\n",
    "        self.count +=1\n",
    "        self.entries.append(f\"{self.count} : {text}\")\n",
    "    \n",
    "    def remove_entry(self, pos):\n",
    "        del self.entries[pos]\n",
    "\n",
    "    def __str__(self):\n",
    "        return '\\n'.join(self.entries)\n",
    "    \n",
    "    def save(self, filename):\n",
    "        file = open(filename, 'w')\n",
    "        file.write(str(self))\n",
    "        file.close()\n",
    "\n",
    "    def load(self, filename):\n",
    "        pass\n",
    "\n",
    "    def load_from_web(self, uri):\n",
    "        pass\n",
    "\n",
    "j = Journal()\n",
    "j.add_entry('I am happy')\n",
    "j.add_entry('I ate well')\n",
    "print(f\"Journal Entries: \\n{j}\")"
   ]
  },
  {
   "cell_type": "code",
   "execution_count": 5,
   "id": "0ab7b9d8",
   "metadata": {
    "slideshow": {
     "slide_type": "notes"
    }
   },
   "outputs": [],
   "source": [
    "# secondary resposiblitis of presistance. by providing functionalities for saving\n",
    "# Complete application. other functionality need to have the same functions like load and \n"
   ]
  },
  {
   "cell_type": "code",
   "execution_count": 6,
   "id": "b46dbccc",
   "metadata": {
    "slideshow": {
     "slide_type": "subslide"
    }
   },
   "outputs": [
    {
     "name": "stdout",
     "output_type": "stream",
     "text": [
      "saved to filejournal.txt\n",
      "1 : I am happy\n",
      "2 : I ate well\n"
     ]
    }
   ],
   "source": [
    "class presistance_manager:\n",
    "    @staticmethod\n",
    "    def save_to_file(journal, filename):\n",
    "        file = open(filename, 'w')\n",
    "        file.write(str(journal))\n",
    "        file.close()\n",
    "        print(f\"saved to file{filename}\")\n",
    "\n",
    "file = r'journal.txt'\n",
    "presistance_manager.save_to_file(j, file)\n",
    "\n",
    "with open(file) as f:\n",
    "    print(f.read())"
   ]
  },
  {
   "cell_type": "markdown",
   "id": "4a8b8184",
   "metadata": {
    "slideshow": {
     "slide_type": "notes"
    }
   },
   "source": [
    "Dont overload class with mulitple responsibilites\\\n",
    "Class should have single reason to change and it should be related to primary responsiblities"
   ]
  },
  {
   "cell_type": "markdown",
   "id": "d57636e4",
   "metadata": {
    "slideshow": {
     "slide_type": "slide"
    }
   },
   "source": [
    "# Open Closed Principle\n",
    "Class should Open for extension but closed for modification"
   ]
  },
  {
   "cell_type": "code",
   "execution_count": null,
   "id": "69411438",
   "metadata": {},
   "outputs": [],
   "source": []
  }
 ],
 "metadata": {
  "celltoolbar": "Slideshow",
  "kernelspec": {
   "display_name": "Python 3 (ipykernel)",
   "language": "python",
   "name": "python3"
  },
  "language_info": {
   "codemirror_mode": {
    "name": "ipython",
    "version": 3
   },
   "file_extension": ".py",
   "mimetype": "text/x-python",
   "name": "python",
   "nbconvert_exporter": "python",
   "pygments_lexer": "ipython3",
   "version": "3.12.10"
  }
 },
 "nbformat": 4,
 "nbformat_minor": 5
}
