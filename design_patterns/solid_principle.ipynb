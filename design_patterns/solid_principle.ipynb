{
 "cells": [
  {
   "cell_type": "markdown",
   "id": "2374faa2",
   "metadata": {
    "slideshow": {
     "slide_type": "slide"
    },
    "vscode": {
     "languageId": "plaintext"
    }
   },
   "source": [
    "## Single Responsibility Principle\n",
    "Class should have primary responsibilty shouldn't take other responsiblities"
   ]
  },
  {
   "cell_type": "code",
   "execution_count": 1,
   "id": "cb28aa59",
   "metadata": {
    "slideshow": {
     "slide_type": "subslide"
    }
   },
   "outputs": [
    {
     "name": "stdout",
     "output_type": "stream",
     "text": [
      "Journal Entries: \n",
      "1 : I am happy\n",
      "2 : I ate well\n"
     ]
    }
   ],
   "source": [
    "class Journal:\n",
    "    def __init__(self):\n",
    "        self.entries = []\n",
    "        self.count = 0\n",
    "    \n",
    "    def add_entry(self, text):\n",
    "        self.count +=1\n",
    "        self.entries.append(f\"{self.count} : {text}\")\n",
    "    \n",
    "    def remove_entry(self, pos):\n",
    "        del self.entries[pos]\n",
    "\n",
    "    def __str__(self):\n",
    "        return '\\n'.join(self.entries)\n",
    "    \n",
    "j = Journal()\n",
    "j.add_entry('I am happy')\n",
    "j.add_entry('I ate well')\n",
    "print(f\"Journal Entries: \\n{j}\")"
   ]
  },
  {
   "cell_type": "code",
   "execution_count": 23,
   "id": "f62297e5",
   "metadata": {
    "slideshow": {
     "slide_type": "subslide"
    }
   },
   "outputs": [
    {
     "name": "stdout",
     "output_type": "stream",
     "text": [
      "Journal Entries: \n",
      "1 : I am happy\n",
      "2 : I ate well\n"
     ]
    }
   ],
   "source": [
    "class Journal:\n",
    "    def __init__(self):\n",
    "        self.entries = []\n",
    "        self.count = 0\n",
    "    \n",
    "    def add_entry(self, text):\n",
    "        self.count +=1\n",
    "        self.entries.append(f\"{self.count} : {text}\")\n",
    "    \n",
    "    def remove_entry(self, pos):\n",
    "        del self.entries[pos]\n",
    "\n",
    "    def __str__(self):\n",
    "        return '\\n'.join(self.entries)\n",
    "    \n",
    "    def save(self, filename):\n",
    "        file = open(filename, 'w')\n",
    "        file.write(str(self))\n",
    "        file.close()\n",
    "\n",
    "    def load(self, filename):\n",
    "        pass\n",
    "\n",
    "    def load_from_web(self, uri):\n",
    "        pass\n",
    "\n",
    "j = Journal()\n",
    "j.add_entry('I am happy')\n",
    "j.add_entry('I ate well')\n",
    "print(f\"Journal Entries: \\n{j}\")"
   ]
  },
  {
   "cell_type": "code",
   "execution_count": 3,
   "id": "0ab7b9d8",
   "metadata": {
    "slideshow": {
     "slide_type": "notes"
    }
   },
   "outputs": [],
   "source": [
    "# secondary resposiblitis of presistance. by providing functionalities for saving\n",
    "# Complete application. other functionality need to have the same functions like load and \n"
   ]
  },
  {
   "cell_type": "code",
   "execution_count": 4,
   "id": "b46dbccc",
   "metadata": {
    "slideshow": {
     "slide_type": "subslide"
    }
   },
   "outputs": [
    {
     "name": "stdout",
     "output_type": "stream",
     "text": [
      "saved to filejournal.txt\n",
      "1 : I am happy\n",
      "2 : I ate well\n"
     ]
    }
   ],
   "source": [
    "class presistance_manager:\n",
    "    @staticmethod\n",
    "    def save_to_file(journal, filename):\n",
    "        file = open(filename, 'w')\n",
    "        file.write(str(journal))\n",
    "        file.close()\n",
    "        print(f\"saved to file{filename}\")\n",
    "\n",
    "file = r'journal.txt'\n",
    "presistance_manager.save_to_file(j, file)\n",
    "\n",
    "with open(file) as f:\n",
    "    print(f.read())"
   ]
  },
  {
   "cell_type": "markdown",
   "id": "4a8b8184",
   "metadata": {
    "slideshow": {
     "slide_type": "notes"
    }
   },
   "source": [
    "Dont overload class with mulitple responsibilites\\\n",
    "Class should have single reason to change and it should be related to primary responsiblities"
   ]
  },
  {
   "cell_type": "markdown",
   "id": "d57636e4",
   "metadata": {
    "slideshow": {
     "slide_type": "slide"
    }
   },
   "source": [
    "# Open Closed Principle\n",
    "Class should Open for extension but closed for modification"
   ]
  },
  {
   "cell_type": "code",
   "execution_count": 5,
   "id": "69411438",
   "metadata": {
    "slideshow": {
     "slide_type": "subslide"
    }
   },
   "outputs": [],
   "source": [
    "from enum import Enum\n",
    "\n",
    "class color(Enum):\n",
    "    RED = 1\n",
    "    GREEN = 2\n",
    "    BLUE = 3\n",
    "\n",
    "class size(Enum):\n",
    "    SMALL = 1\n",
    "    MEDIUM = 2\n",
    "    LARGE = 3\n",
    "\n",
    "class Product:\n",
    "    def __init__(self, name, color, size):\n",
    "        self.name = name\n",
    "        self.color = color\n",
    "        self.size = size\n",
    "    \n",
    "class ProductFilter:\n",
    "    def filter_by_color(self, products, color):\n",
    "        for p in products:\n",
    "            if p.color == color: yield p\n",
    "    \n",
    "    def filter_by_size(self, products, size):\n",
    "        for p in products:\n",
    "            if p.size == size: yield p"
   ]
  },
  {
   "cell_type": "markdown",
   "id": "0f050a57",
   "metadata": {
    "slideshow": {
     "slide_type": "notes"
    }
   },
   "source": [
    "    Modification should be done via extension eg: filter_by_color_and_size \n",
    "    2 --> 3 \n",
    "    3 --> 7 C S W CS SW CW CSW "
   ]
  },
  {
   "cell_type": "code",
   "execution_count": 8,
   "id": "434c55f3",
   "metadata": {
    "slideshow": {
     "slide_type": "subslide"
    }
   },
   "outputs": [],
   "source": [
    "class specification:\n",
    "    def is_satisfied(self, item):\n",
    "        pass\n",
    "\n",
    "class filter:\n",
    "    def filter(self, item, specification):\n",
    "        pass\n",
    "\n",
    "class color_specification(specification):\n",
    "    def __init__(self, color):\n",
    "        self.color = color\n",
    "\n",
    "    def is_satisfied(self, item):\n",
    "        return item.color == self.color\n",
    "    \n",
    "class size_specification(specification):\n",
    "    def __init__(self, size):\n",
    "        self.size = size\n",
    "\n",
    "    def is_satisfied(self, item):\n",
    "        return item.size == self.size\n",
    "\n",
    "class better_filter(filter):\n",
    "    def filter(self, items, spec):\n",
    "        for item in items:\n",
    "            if spec.is_satisfied(item):\n",
    "                yield item\n"
   ]
  },
  {
   "cell_type": "code",
   "execution_count": 24,
   "id": "1a9c32f0",
   "metadata": {
    "slideshow": {
     "slide_type": "subslide"
    }
   },
   "outputs": [
    {
     "name": "stdout",
     "output_type": "stream",
     "text": [
      "Green Products\n",
      "- apple  is green\n",
      "- tree  is green\n",
      "Better filter\n",
      "- apple  is green\n",
      "- tree  is green\n",
      "- tree  is large\n",
      "- house  is large\n"
     ]
    }
   ],
   "source": [
    "apple = Product(\"apple\", color.GREEN,size.SMALL)\n",
    "tree = Product(\"tree\", color.GREEN, size.LARGE)\n",
    "house = Product(\"house\", color.BLUE, size.LARGE)\n",
    "\n",
    "products = [apple,tree, house]\n",
    "\n",
    "print(\"Green Products\")\n",
    "pf = ProductFilter()\n",
    "for p in pf.filter_by_color(products,color.GREEN):\n",
    "    print(f\"- {p.name}  is green\")\n",
    "\n",
    "print(\"Better filter\")\n",
    "bf = better_filter()\n",
    "green = color_specification(color.GREEN)\n",
    "for p in bf.filter(products, green):\n",
    "    print(f\"- {p.name}  is green\")\n",
    "\n",
    "    \n",
    "large = size_specification(size.LARGE)\n",
    "for p in bf.filter(products, large):\n",
    "    print(f\"- {p.name}  is large\")\n"
   ]
  },
  {
   "cell_type": "code",
   "execution_count": 13,
   "id": "a4e576ee",
   "metadata": {
    "slideshow": {
     "slide_type": "subslide"
    }
   },
   "outputs": [
    {
     "name": "stdout",
     "output_type": "stream",
     "text": [
      "Large blue items\n",
      "- house  is large and blue\n"
     ]
    }
   ],
   "source": [
    "class and_specification(specification):\n",
    "    def __init__(self, *args):\n",
    "        self.args = args\n",
    "    def is_satisfied(self, item):\n",
    "        return all(map(\n",
    "            lambda spec: spec.is_satisfied(item), self.args\n",
    "        ))\n",
    "\n",
    "print(\"Large blue items\")\n",
    "large_blue = and_specification(large,color_specification(color.BLUE))\n",
    "for p in bf.filter(products, large_blue):\n",
    "    print(f\"- {p.name}  is large and blue\")"
   ]
  },
  {
   "cell_type": "markdown",
   "id": "ee28fdc4",
   "metadata": {
    "slideshow": {
     "slide_type": "slide"
    }
   },
   "source": [
    "# Liskov substituion principle\n",
    "\n",
    "It states that objects of a superclass should be replaceable with objects of its subclasses without affecting the correctness of the program\n"
   ]
  },
  {
   "cell_type": "code",
   "execution_count": 14,
   "id": "b827e404",
   "metadata": {
    "slideshow": {
     "slide_type": "subslide"
    }
   },
   "outputs": [],
   "source": [
    "class rectangle():\n",
    "    def __init__(self, width, height):\n",
    "        self._height = height\n",
    "        self._width = width\n",
    "    \n",
    "    @property\n",
    "    def height(self):\n",
    "        return self._height\n",
    "    \n",
    "    @height.setter\n",
    "    def height(self, value):\n",
    "        self._height = value\n",
    "\n",
    "    @property\n",
    "    def width(self):\n",
    "        return self._width\n",
    "\n",
    "    @width.setter\n",
    "    def width(self, value):\n",
    "        self._width = value\n",
    "    \n",
    "    @property\n",
    "    def area(self):\n",
    "        return self._width * self._height\n",
    "    \n",
    "    def __str__(self):\n",
    "        return f\"Width: {self.width}, height: {self.height}\""
   ]
  },
  {
   "cell_type": "code",
   "execution_count": 15,
   "id": "8705de4a",
   "metadata": {
    "slideshow": {
     "slide_type": "subslide"
    }
   },
   "outputs": [
    {
     "name": "stdout",
     "output_type": "stream",
     "text": [
      "Expected an area of 20, got 20\n"
     ]
    }
   ],
   "source": [
    "def use_it(rc):\n",
    "    w = rc.width\n",
    "    rc.height = 10\n",
    "    expected = int(w*10)\n",
    "    print(F'Expected an area of {expected}, got {rc.area}')\n",
    "\n",
    "rc = rectangle(2,3)\n",
    "use_it(rc)"
   ]
  },
  {
   "cell_type": "code",
   "execution_count": 16,
   "id": "8a7a09b8",
   "metadata": {
    "slideshow": {
     "slide_type": "subslide"
    }
   },
   "outputs": [
    {
     "name": "stdout",
     "output_type": "stream",
     "text": [
      "Expected an area of 50, got 100\n"
     ]
    }
   ],
   "source": [
    "class square(rectangle):\n",
    "    def __init__(self, size):\n",
    "        super().__init__(size, size)\n",
    "    \n",
    "    @rectangle.width.setter\n",
    "    def width(self, value):\n",
    "        self._width = self._height = value\n",
    "    \n",
    "    @rectangle.height.setter\n",
    "    def height(self, value):\n",
    "        self._height = self._width = value\n",
    "\n",
    "sq = square(5)\n",
    "use_it(sq)"
   ]
  },
  {
   "cell_type": "markdown",
   "id": "2b79f051",
   "metadata": {
    "slideshow": {
     "slide_type": "notes"
    }
   },
   "source": [
    "Use boolean to check if it is square. setters violates lsp in square"
   ]
  },
  {
   "cell_type": "markdown",
   "id": "40a950ef",
   "metadata": {
    "slideshow": {
     "slide_type": "slide"
    }
   },
   "source": [
    "# Interface Seperation Principle\n",
    "It states no code should be forced to depend on methods it doesn't use"
   ]
  },
  {
   "cell_type": "code",
   "execution_count": 17,
   "id": "b50398c8",
   "metadata": {
    "slideshow": {
     "slide_type": "subslide"
    }
   },
   "outputs": [],
   "source": [
    "from abc import abstractmethod\n",
    "\n",
    "class machine:\n",
    "    def print(self, document):\n",
    "        raise NotImplementedError\n",
    "    def scan(self, document):\n",
    "        raise NotImplementedError\n",
    "    def fax(self, document):\n",
    "        raise NotImplementedError\n",
    "\n",
    "class multi_function_printer(machine):\n",
    "    def print(self, document):\n",
    "        pass\n",
    "    def scan(self, document):\n",
    "        pass\n",
    "    def fax(self, document):\n",
    "        pass\n",
    "\n",
    "class old_fashioned_printer(machine):\n",
    "    def print(self, document):\n",
    "        pass\n",
    "    # def scan(self, document):\n",
    "    #     pass\n",
    "    def scan(self, document):\n",
    "        raise NotImplementedError(\"Printer cannot Scan!!\")\n",
    "    \n",
    "    def fax(self, document):\n",
    "        pass"
   ]
  },
  {
   "cell_type": "code",
   "execution_count": 18,
   "id": "3c7e84b2",
   "metadata": {
    "slideshow": {
     "slide_type": "subslide"
    }
   },
   "outputs": [],
   "source": [
    "## Seperate iterfaces\n",
    "\n",
    "class printer():\n",
    "    @abstractmethod\n",
    "    def print(self, document):\n",
    "        pass\n",
    "\n",
    "class scanner():\n",
    "    @abstractmethod\n",
    "    def scan(self, document):\n",
    "        pass\n",
    "\n",
    "class my_printer(printer):\n",
    "    def print(self, document):\n",
    "        print(document)\n",
    "\n",
    "class photo_copier(printer, scanner):\n",
    "    def print(self, document):\n",
    "        return super().print(document)\n",
    "    def scan(self, document):\n",
    "        return super().scan(document)"
   ]
  },
  {
   "cell_type": "markdown",
   "id": "27c09d99",
   "metadata": {
    "slideshow": {
     "slide_type": "slide"
    }
   },
   "source": [
    "# Dependency Inversion Principle\n",
    "High level shouldnt depend on low level module. it should depend on abstraction"
   ]
  },
  {
   "cell_type": "code",
   "execution_count": 26,
   "id": "07ce05d5",
   "metadata": {
    "slideshow": {
     "slide_type": "subslide"
    }
   },
   "outputs": [
    {
     "name": "stdout",
     "output_type": "stream",
     "text": [
      "Job has a child called chris\n",
      "Job has a child called matt\n"
     ]
    },
    {
     "data": {
      "text/plain": [
       "<__main__.research at 0x1c9041b52d0>"
      ]
     },
     "execution_count": 26,
     "metadata": {},
     "output_type": "execute_result"
    }
   ],
   "source": [
    "class relationship(Enum):\n",
    "    PARENT = 0\n",
    "    CHILD = 1\n",
    "    SIBILING =2\n",
    "class person:\n",
    "    def __init__(self, name):\n",
    "        self.name = name\n",
    "class relationships:\n",
    "    def __init__(self):\n",
    "        self.relations = []\n",
    "    \n",
    "    def add_parent_and_child(self, parent, child):\n",
    "        self.relations.append((parent, relationship.PARENT, child))\n",
    "        self.relations.append((child, relationship.CHILD, parent))\n",
    "class research:\n",
    "    def __init__(self, relationships):\n",
    "        relations = relationships.relations\n",
    "        for r in relations:\n",
    "            if r[0].name =='John' and r[1] == relationship.PARENT:\n",
    "                print(f'Job has a child called {r[2].name}')\n",
    "\n",
    "parent = person('John')\n",
    "child1 = person('chris')\n",
    "child2 = person('matt')\n",
    "relationships_collector = relationships()\n",
    "relationships_collector.add_parent_and_child(parent,child1)\n",
    "relationships_collector.add_parent_and_child(parent,child2)\n",
    "\n",
    "research(relationships_collector)"
   ]
  },
  {
   "cell_type": "code",
   "execution_count": 21,
   "id": "46a37b3a",
   "metadata": {
    "slideshow": {
     "slide_type": "notes"
    }
   },
   "outputs": [],
   "source": [
    "# research wont work if the storage datastructure changes\n",
    "# lowlevel module should tell how to do search"
   ]
  },
  {
   "cell_type": "code",
   "execution_count": 27,
   "id": "fad8bce1",
   "metadata": {
    "slideshow": {
     "slide_type": "subslide"
    }
   },
   "outputs": [
    {
     "name": "stdout",
     "output_type": "stream",
     "text": [
      "Job has a child called chris\n",
      "Job has a child called matt\n"
     ]
    },
    {
     "data": {
      "text/plain": [
       "<__main__.research at 0x1c9041dea50>"
      ]
     },
     "execution_count": 27,
     "metadata": {},
     "output_type": "execute_result"
    }
   ],
   "source": [
    "class relationship_browser:\n",
    "    @abstractmethod\n",
    "    def find_all_childern_of(self, name): pass\n",
    "class relationships(relationship_browser): #low-level-module\n",
    "    def __init__(self):\n",
    "        self.relations = []\n",
    "    def add_parent_and_child(self, parent, child):\n",
    "        self.relations.append((parent, relationship.PARENT, child))\n",
    "        self.relations.append((child, relationship.CHILD, parent))\n",
    "    def find_all_childern_of(self, name):\n",
    "        for r in self.relations:\n",
    "            if r[0].name == name and r[1] == relationship.PARENT:\n",
    "                yield r[2].name\n",
    "\n",
    "class research: #high level module\n",
    "    def __init__(self, browser):\n",
    "        for p in browser.find_all_childern_of('John'):\n",
    "            print(f'Job has a child called {p}')\n",
    "\n",
    "parent = person('John')\n",
    "child1 = person('chris')\n",
    "child2 = person('matt')\n",
    "\n",
    "relationships_collector = relationships()\n",
    "relationships_collector.add_parent_and_child(parent,child1)\n",
    "relationships_collector.add_parent_and_child(parent,child2)\n",
    "\n",
    "research(relationships_collector)"
   ]
  },
  {
   "cell_type": "code",
   "execution_count": null,
   "id": "5392aa80",
   "metadata": {},
   "outputs": [],
   "source": []
  }
 ],
 "metadata": {
  "celltoolbar": "Slideshow",
  "kernelspec": {
   "display_name": "Python 3 (ipykernel)",
   "language": "python",
   "name": "python3"
  },
  "language_info": {
   "codemirror_mode": {
    "name": "ipython",
    "version": 3
   },
   "file_extension": ".py",
   "mimetype": "text/x-python",
   "name": "python",
   "nbconvert_exporter": "python",
   "pygments_lexer": "ipython3",
   "version": "3.11.11"
  }
 },
 "nbformat": 4,
 "nbformat_minor": 5
}
