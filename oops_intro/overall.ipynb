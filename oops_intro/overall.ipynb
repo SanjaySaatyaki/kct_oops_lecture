{
 "cells": [
  {
   "cell_type": "markdown",
   "id": "04dba13d",
   "metadata": {
    "jp-MarkdownHeadingCollapsed": true,
    "slideshow": {
     "slide_type": "slide"
    }
   },
   "source": [
    "## Build-In Objects"
   ]
  },
  {
   "cell_type": "code",
   "execution_count": 2,
   "id": "ab582a34",
   "metadata": {
    "slideshow": {
     "slide_type": "subslide"
    }
   },
   "outputs": [
    {
     "name": "stdout",
     "output_type": "stream",
     "text": [
      "<class 'str'>\n",
      "<class 'int'>\n",
      "SANJAY\n",
      "True\n"
     ]
    }
   ],
   "source": [
    "name = \"Sanjay\"\n",
    "age = 28\n",
    "\n",
    "print(type(name))\n",
    "print(type(age))\n",
    "\n",
    "# # Methods\n",
    "print(name.upper())\n",
    "print(age.is_integer())\n"
   ]
  },
  {
   "cell_type": "markdown",
   "id": "1a08ab94",
   "metadata": {
    "slideshow": {
     "slide_type": "slide"
    }
   },
   "source": [
    "## Custom Class"
   ]
  },
  {
   "cell_type": "code",
   "execution_count": 4,
   "id": "9d6bef35",
   "metadata": {
    "slideshow": {
     "slide_type": "subslide"
    }
   },
   "outputs": [
    {
     "name": "stdout",
     "output_type": "stream",
     "text": [
      "Whof Whoff\n",
      "<class '__main__.Dog'>\n",
      "Whof Whoff\n"
     ]
    }
   ],
   "source": [
    "class Dog:\n",
    "    def bark(self):\n",
    "        print(\"Whof Whoff\")\n",
    "\n",
    "dog = Dog()\n",
    "dog.bark()\n",
    "print(type(dog))\n",
    "\n",
    "dog2 = Dog()\n",
    "dog2.bark()\n"
   ]
  },
  {
   "cell_type": "markdown",
   "id": "93547ffd",
   "metadata": {
    "slideshow": {
     "slide_type": "slide"
    }
   },
   "source": [
    "## Custom Class with Init"
   ]
  },
  {
   "cell_type": "code",
   "execution_count": 6,
   "id": "f3ddff03",
   "metadata": {
    "slideshow": {
     "slide_type": "subslide"
    }
   },
   "outputs": [
    {
     "name": "stdout",
     "output_type": "stream",
     "text": [
      "Scootch is Lab\n",
      "Bruno is Beagle\n"
     ]
    }
   ],
   "source": [
    "class Dog:\n",
    "    # when a Object is instantiated \n",
    "    def __init__(self, name, breed):\n",
    "        self.name = name\n",
    "        self.breed = breed\n",
    "    \n",
    "    def bark(self):\n",
    "        print(\"Whof Whoff\")\n",
    "\n",
    "dog1 = Dog(\"Scootch\",\"Lab\")\n",
    "print(f\"{dog1.name} is {dog1.breed}\")\n",
    "\n",
    "\n",
    "dog2 = Dog(\"Bruno\",\"Beagle\")\n",
    "print(f\"{dog2.name} is {dog2.breed}\")"
   ]
  },
  {
   "cell_type": "markdown",
   "id": "07c60aff",
   "metadata": {
    "slideshow": {
     "slide_type": "slide"
    }
   },
   "source": [
    "## Multiple Classess"
   ]
  },
  {
   "cell_type": "code",
   "execution_count": null,
   "id": "772178b8",
   "metadata": {
    "slideshow": {
     "slide_type": "subslide"
    }
   },
   "outputs": [],
   "source": [
    "class Owner:\n",
    "    def __init__(self,name,id):\n",
    "        self.name = name\n",
    "        self.id = id\n",
    "class Dog:\n",
    "    # when a Object is instantiated \n",
    "    def __init__(self, name, breed, owner):\n",
    "        self.name = name\n",
    "        self.breed = breed\n",
    "        self.owner = owner\n",
    "    \n",
    "    def bark(self):\n",
    "        print(\"Whof Whoff\")\n",
    "\n",
    "owner1 = Owner(\"Sanjay\",\"123\")\n",
    "dog1 = Dog(\"Scootch\",\"Lab\",owner1)\n",
    "\n",
    "all_attributes = dir(dog1)\n",
    "\n",
    "print(all_attributes)\n",
    "\n",
    "print(f\"{dog1.owner.name} is the owner of {dog1.name} and it is {dog1.breed}\")"
   ]
  },
  {
   "cell_type": "code",
   "execution_count": 7,
   "id": "9eb4feba",
   "metadata": {
    "slideshow": {
     "slide_type": "subslide"
    }
   },
   "outputs": [
    {
     "name": "stdout",
     "output_type": "stream",
     "text": [
      "Hello, my name is Bob and I am 28 years\n"
     ]
    }
   ],
   "source": [
    "class Person:\n",
    "    def __init__(self, name, age):\n",
    "        self.name = name\n",
    "        self.age = age\n",
    "    \n",
    "    def greet(self):\n",
    "        print(f\"Hello, my name is {self.name} and I am {self.age} years\")\n",
    "\n",
    "person1 = Person(\"Bob\",28)\n",
    "person1.greet()"
   ]
  },
  {
   "cell_type": "markdown",
   "id": "a8c36665",
   "metadata": {
    "slideshow": {
     "slide_type": "slide"
    }
   },
   "source": [
    "## Data and Access"
   ]
  },
  {
   "cell_type": "code",
   "execution_count": null,
   "id": "a280e8e2",
   "metadata": {
    "slideshow": {
     "slide_type": "subslide"
    }
   },
   "outputs": [],
   "source": [
    "class User:\n",
    "    def __init__(self, username, email, password):\n",
    "        self.username = username\n",
    "        self.email = email\n",
    "        self.password = password\n",
    "\n",
    "    def sayHiToUser(self, user):\n",
    "        print(\n",
    "            f\"Sending message to {user.username}: Hi {user.username}, it's {self.username} ;)\"\n",
    "        )\n",
    "\n",
    "user1 = User(\"Sanjay\", \"sanjayabs97@gmail.com\", \"123\")\n",
    "user2 = User(\"Alex\", \"Alex@gmail.com\", \"abc\")\n",
    "user1.sayHiToUser(user2)\n",
    "\n",
    "# user1.email = \"Hello world@gmail.com\"\n",
    "# print(user1.email)"
   ]
  },
  {
   "cell_type": "markdown",
   "id": "b09865e3",
   "metadata": {
    "slideshow": {
     "slide_type": "notes"
    }
   },
   "source": [
    "Speak about access and update of values of class"
   ]
  },
  {
   "cell_type": "markdown",
   "id": "2b6ee503",
   "metadata": {
    "slideshow": {
     "slide_type": "subslide"
    }
   },
   "source": [
    "### Protected attributes"
   ]
  },
  {
   "cell_type": "code",
   "execution_count": null,
   "id": "3e74b992",
   "metadata": {
    "slideshow": {
     "slide_type": "subslide"
    }
   },
   "outputs": [],
   "source": [
    "class User2:\n",
    "    def __init__(self, username, email, password):\n",
    "        self.username = username\n",
    "        self._email = email\n",
    "        self.password = password\n",
    "\n",
    "    def clean_email(self):\n",
    "        return self._email.lower().strip()\n",
    "\n",
    "user2 = User2(\"Sanjay\", \" Sanjayabs97@gmail.com\", \"123\")\n",
    "\n",
    "# Dont use outside class. Not as per convention\n",
    "# print(user2._email)\n",
    "# print (user2.clean_email())"
   ]
  },
  {
   "cell_type": "markdown",
   "id": "8cf50c4a",
   "metadata": {
    "slideshow": {
     "slide_type": "notes"
    }
   },
   "source": [
    "Ideally the _email should not be accessile but python allows you to access it"
   ]
  },
  {
   "cell_type": "markdown",
   "id": "5e99e790",
   "metadata": {
    "slideshow": {
     "slide_type": "subslide"
    }
   },
   "source": [
    "### Private Attributes"
   ]
  },
  {
   "cell_type": "code",
   "execution_count": null,
   "id": "96623274",
   "metadata": {
    "slideshow": {
     "slide_type": "subslide"
    }
   },
   "outputs": [],
   "source": [
    "class User2:\n",
    "    def __init__(self, username, email, password):\n",
    "        self.username = username\n",
    "        self.__email = email\n",
    "        self.password = password\n",
    "\n",
    "    def clean_email(self):\n",
    "        return self.__email.lower().strip()\n",
    "\n",
    "user2 = User2(\"Sanjay\", \" Sanjayabs97@gmail.com\", \"123\")\n",
    "\n",
    "print(user2.__email)\n",
    "print (user2.clean_email())\n"
   ]
  },
  {
   "cell_type": "markdown",
   "id": "1f03e823",
   "metadata": {
    "slideshow": {
     "slide_type": "notes"
    }
   },
   "source": [
    "- 'The \"Consenting Adults\" Philosophy\n",
    "- adding __ to the start of attribute name is convention for private attributes\n",
    "- Python internally does name mangling"
   ]
  },
  {
   "cell_type": "markdown",
   "id": "812872fa",
   "metadata": {
    "slideshow": {
     "slide_type": "subslide"
    }
   },
   "source": [
    "### Getters and Setters"
   ]
  },
  {
   "cell_type": "code",
   "execution_count": 11,
   "id": "0fdb922f",
   "metadata": {
    "slideshow": {
     "slide_type": "subslide"
    }
   },
   "outputs": [
    {
     "name": "stdout",
     "output_type": "stream",
     "text": [
      "Sanjayabs97@gmail.com\n",
      "helloworld@gmail.com\n"
     ]
    }
   ],
   "source": [
    "class User2:\n",
    "    def __init__(self, username, email, password):\n",
    "        self.username = username\n",
    "        self._email = email\n",
    "        self.password = password\n",
    "    \n",
    "    def get_email(self):\n",
    "        return self._email\n",
    "    \n",
    "    def set_email(self, new_email):\n",
    "        self._email = new_email\n",
    "\n",
    "    def clean_email(self):\n",
    "        return self._email.lower().strip()\n",
    "\n",
    "user2 = User2(\"Sanjay\", \"Sanjayabs97@gmail.com\", \"123\")\n",
    "print(user2.get_email())\n",
    "\n",
    "# user2.set_email(\"helloworld@gmail.com\")\n",
    "# print(user2.get_email())"
   ]
  },
  {
   "cell_type": "markdown",
   "id": "f6a88c8d",
   "metadata": {
    "slideshow": {
     "slide_type": "notes"
    }
   },
   "source": [
    "You should expose the methods for protected attributes. Why we should do this? is because we have control to log activites. Controled way or reading email adderess like we can check if he is admin etc. More of Java way of doing things?"
   ]
  },
  {
   "cell_type": "code",
   "execution_count": null,
   "id": "cf05d4fa",
   "metadata": {
    "slideshow": {
     "slide_type": "subslide"
    }
   },
   "outputs": [],
   "source": [
    "class User2:\n",
    "    def __init__(self, username, email, password):\n",
    "        self.username = username\n",
    "        self._email = email\n",
    "        self.password = password\n",
    "    \n",
    "    def get_email(self):\n",
    "        return self._email\n",
    "    \n",
    "    def set_email(self, new_email):\n",
    "        if \"@\" in new_email:\n",
    "            self._email = new_email\n",
    "\n",
    "    def clean_email(self):\n",
    "        return self._email.lower().strip()\n",
    "\n",
    "user2 = User2(\"Sanjay\", \"Sanjayabs97@gmail.com\", \"123\")\n",
    "print(user2.get_email())\n",
    "\n",
    "user2.set_email(\"helloworldgmail.com\")\n",
    "print(user2.get_email())"
   ]
  },
  {
   "cell_type": "markdown",
   "id": "389c3d5f",
   "metadata": {},
   "source": [
    "### Properties"
   ]
  },
  {
   "cell_type": "code",
   "execution_count": 13,
   "id": "f73a6ced",
   "metadata": {
    "slideshow": {
     "slide_type": "subslide"
    }
   },
   "outputs": [
    {
     "name": "stdout",
     "output_type": "stream",
     "text": [
      "this is not an email\n"
     ]
    }
   ],
   "source": [
    "class User:\n",
    "    def __init__(self, username, email, password):\n",
    "        self.username = username\n",
    "        self._email = email\n",
    "        self.password = password\n",
    "        \n",
    "user1 = User(\"Sanjay\",\"sanjay.14bcs@kct.ac.in\",\"1234\")\n",
    "user1.email = \"this is not an email\"\n",
    "print(user1.email)"
   ]
  },
  {
   "cell_type": "markdown",
   "id": "41a75db2",
   "metadata": {
    "slideshow": {
     "slide_type": "notes"
    }
   },
   "source": [
    "Wrongly allowing email to access. Lets see python way of doing things"
   ]
  },
  {
   "cell_type": "code",
   "execution_count": 16,
   "id": "a1a39849",
   "metadata": {},
   "outputs": [
    {
     "name": "stdout",
     "output_type": "stream",
     "text": [
      "Email Accessed\n",
      "sanjay.14bcs@kct.ac.in\n"
     ]
    }
   ],
   "source": [
    "class User:\n",
    "    def __init__(self, username, email, password):\n",
    "        self.username = username\n",
    "        self._email = email\n",
    "        self.password = password\n",
    "    \n",
    "    #getter property\n",
    "    @property\n",
    "    def email(self):\n",
    "        print(\"Email Accessed\")\n",
    "        return self._email   \n",
    "    \n",
    "        \n",
    "user1 = User(\"Sanjay\",\"sanjay.14bcs@kct.ac.in\",\"1234\")\n",
    "# user1.email = \"this is not an email\"\n",
    "print(user1.email)"
   ]
  },
  {
   "cell_type": "markdown",
   "id": "843b4c4f",
   "metadata": {
    "slideshow": {
     "slide_type": "notes"
    }
   },
   "source": [
    "Attribute can be accessed as same as ususally when using property. Try to use setter and show error"
   ]
  },
  {
   "cell_type": "code",
   "execution_count": 18,
   "id": "edb493d4",
   "metadata": {
    "slideshow": {
     "slide_type": "subslide"
    }
   },
   "outputs": [
    {
     "name": "stdout",
     "output_type": "stream",
     "text": [
      "Email is udpated\n",
      "Email Accessed\n",
      "sanjay.18mds@kct.ac.in\n"
     ]
    }
   ],
   "source": [
    "class User:\n",
    "    def __init__(self, username, email, password):\n",
    "        self.username = username\n",
    "        self._email = email\n",
    "        self.password = password\n",
    "    \n",
    "    #getter property\n",
    "    @property\n",
    "    def email(self):\n",
    "        print(\"Email Accessed\")\n",
    "        return self._email   \n",
    "    \n",
    "    @email.setter\n",
    "    def email(self, new_email):\n",
    "        if \"@\" in new_email:\n",
    "            print(\"Email is udpated\")\n",
    "            self._email = new_email\n",
    "        \n",
    "user1 = User(\"Sanjay\",\"sanjay.14bcs@kct.ac.in\",\"1234\")\n",
    "# user1.email = \"this is not an email\"\n",
    "user1.email = \"sanjay.18mds@kct.ac.in\"\n",
    "print(user1.email)"
   ]
  },
  {
   "cell_type": "markdown",
   "id": "92fa5bf6",
   "metadata": {
    "slideshow": {
     "slide_type": "subslide"
    }
   },
   "source": [
    "## Static Attributes\n",
    "\n",
    "- A static attribute (sometimes called as class attribute) is an attribute that belongs to the class itself, not to any specific instance of a class.\n",
    "- Static Attributes are shared by all instances of the class\n"
   ]
  },
  {
   "cell_type": "code",
   "execution_count": 21,
   "id": "c9323a79",
   "metadata": {
    "slideshow": {
     "slide_type": "subslide"
    }
   },
   "outputs": [
    {
     "name": "stdout",
     "output_type": "stream",
     "text": [
      "2\n",
      "2\n"
     ]
    }
   ],
   "source": [
    "class User:\n",
    "    user_count = 0\n",
    "    \n",
    "    def __init__(self, user_name, email):\n",
    "        self.user_name = user_name\n",
    "        self.email = email\n",
    "        User.user_count+=1\n",
    "    \n",
    "    def display_user(self):\n",
    "        print(f\"Username:{self.username}, Email: {self.email}\")\n",
    "        \n",
    "user1 = User(\"abc\",\"abc@gmail.com\")\n",
    "user2 = User(\"xyz\",\"xyz@gmail.com\")\n",
    "print(User.user_count)\n",
    "print(user1.user_count)"
   ]
  },
  {
   "cell_type": "markdown",
   "id": "ba87b60b",
   "metadata": {
    "slideshow": {
     "slide_type": "notes"
    }
   },
   "source": [
    "Static attribute created in class body. Instance attribute created inside init method.\n",
    "when?\n",
    "Can be useful for data common in all instance of class\n",
    "- counters\n",
    "- totals\n",
    "- shared Constants"
   ]
  },
  {
   "cell_type": "markdown",
   "id": "56227f77",
   "metadata": {
    "slideshow": {
     "slide_type": "subslide"
    }
   },
   "source": [
    "### Static Methods\n",
    "- A static method in python is a method that belongs to the class itself, rather than any instance of class.\n",
    "- `@staticmethod` decorator should be used to define static method"
   ]
  },
  {
   "cell_type": "code",
   "execution_count": 24,
   "id": "eca62277",
   "metadata": {},
   "outputs": [
    {
     "name": "stdout",
     "output_type": "stream",
     "text": [
      "ben's new balance:700\n",
      "True\n",
      "False\n"
     ]
    }
   ],
   "source": [
    "class bank_account:\n",
    "    MIN_BALANCE = 100\n",
    "    \n",
    "    def __init__(self, owner, balance=0):\n",
    "        self.owner = owner\n",
    "        self._balance = balance\n",
    "    \n",
    "    def deposit(self, amount):\n",
    "        if amount >0:\n",
    "            self._balance += amount\n",
    "            print(f\"{self.owner}'s new balance:{self._balance}\")\n",
    "        else:\n",
    "            print(\"Deposit amount must be positive\")\n",
    "    \n",
    "    @staticmethod\n",
    "    def is_valid_interest_rate(rate):\n",
    "        return 0<= rate <=5\n",
    "\n",
    "account = bank_account(\"ben\",500)\n",
    "account.deposit(200)\n",
    "\n",
    "print(bank_account.is_valid_interest_rate(3))\n",
    "print(bank_account.is_valid_interest_rate(7))"
   ]
  },
  {
   "cell_type": "markdown",
   "id": "9234c3bc",
   "metadata": {
    "slideshow": {
     "slide_type": "subslide"
    }
   },
   "source": [
    "### Protected and Private Methods"
   ]
  },
  {
   "cell_type": "code",
   "execution_count": 26,
   "id": "96adb3a6",
   "metadata": {},
   "outputs": [
    {
     "name": "stdout",
     "output_type": "stream",
     "text": [
      "Logging deposit of 200. New balance: 700\n",
      "True\n",
      "False\n"
     ]
    }
   ],
   "source": [
    "class bank_account:\n",
    "    MIN_BALANCE = 100\n",
    "    \n",
    "    def __init__(self, owner, balance=0):\n",
    "        self.owner = owner\n",
    "        self._balance = balance\n",
    "    \n",
    "    def deposit(self, amount):\n",
    "        if self._is_valid_amount(amount):\n",
    "            self._balance += amount\n",
    "            self.__log_transaction(\"deposit\",amount)\n",
    "        else:\n",
    "            print(\"Deposit amount must be positive\")\n",
    "    \n",
    "    # Protected Method\n",
    "    def _is_valid_amount(self, amount):\n",
    "        return amount > 0\n",
    "    # Private method\n",
    "    def __log_transaction(self, transaction_type, amount):\n",
    "        print(f\"Logging {transaction_type} of {amount}. New balance: {self._balance}\")\n",
    "        \n",
    "    \n",
    "    @staticmethod\n",
    "    def is_valid_interest_rate(rate):\n",
    "        return 0<= rate <=5\n",
    "\n",
    "account = bank_account(\"ben\",500)\n",
    "account.deposit(200)\n",
    "\n",
    "print(bank_account.is_valid_interest_rate(3))\n",
    "print(bank_account.is_valid_interest_rate(7))"
   ]
  },
  {
   "cell_type": "code",
   "execution_count": 29,
   "id": "bed28dab",
   "metadata": {
    "slideshow": {
     "slide_type": "subslide"
    }
   },
   "outputs": [
    {
     "ename": "AttributeError",
     "evalue": "'bank_account' object has no attribute '__log_transaction'",
     "output_type": "error",
     "traceback": [
      "\u001b[31m---------------------------------------------------------------------------\u001b[39m",
      "\u001b[31mAttributeError\u001b[39m                            Traceback (most recent call last)",
      "\u001b[36mCell\u001b[39m\u001b[36m \u001b[39m\u001b[32mIn[29]\u001b[39m\u001b[32m, line 3\u001b[39m\n\u001b[32m      1\u001b[39m account._is_valid_amount(\u001b[32m1000\u001b[39m)\n\u001b[32m----> \u001b[39m\u001b[32m3\u001b[39m \u001b[43maccount\u001b[49m\u001b[43m.\u001b[49m\u001b[43m__log_transaction\u001b[49m(\u001b[33m\"\u001b[39m\u001b[33mremit\u001b[39m\u001b[33m\"\u001b[39m,\u001b[32m100\u001b[39m)\n",
      "\u001b[31mAttributeError\u001b[39m: 'bank_account' object has no attribute '__log_transaction'"
     ]
    }
   ],
   "source": [
    "account._is_valid_amount(1000)\n",
    "\n",
    "account.__log_transaction(\"remit\",100)"
   ]
  },
  {
   "cell_type": "markdown",
   "id": "59d2d3d1",
   "metadata": {
    "slideshow": {
     "slide_type": "slide"
    }
   },
   "source": [
    "## Encapsulation\n",
    "- Bundling data, attributes, fields and method or behaviours operates on it into single unit called class\n",
    "- Hinding internal implementation details of class by only exposing necessary functionalties to outside world"
   ]
  },
  {
   "cell_type": "code",
   "execution_count": 31,
   "id": "bd1c43cd",
   "metadata": {
    "slideshow": {
     "slide_type": "subslide"
    }
   },
   "outputs": [
    {
     "name": "stdout",
     "output_type": "stream",
     "text": [
      "-1\n"
     ]
    }
   ],
   "source": [
    "class bad_bank_account:\n",
    "    def __init__(self, balance):\n",
    "        self.balance = balance\n",
    "\n",
    "account = bad_bank_account(0.0)\n",
    "account.balance = -1\n",
    "print(account.balance)"
   ]
  },
  {
   "cell_type": "code",
   "execution_count": null,
   "id": "79b447c6",
   "metadata": {
    "slideshow": {
     "slide_type": "subslide"
    }
   },
   "outputs": [],
   "source": [
    "class bank_account:\n",
    "    def __init__(self):\n",
    "        self._balance = 0.0\n",
    "    \n",
    "    @property\n",
    "    def balance(self):\n",
    "        return self._balance\n",
    "    \n",
    "    # Protected Method\n",
    "    def _is_valid_amount(self, amount):\n",
    "        return amount > 0\n",
    "    \n",
    "    def __log_transaction(self, transaction_type, amount):\n",
    "        print(f\"Logging {transaction_type} of {amount}. New balance: {self._balance}\")\n",
    "    \n",
    "    def deposit(self, amount):\n",
    "        if self._is_valid_amount(amount):\n",
    "            self._balance += amount\n",
    "            self.__log_transaction(\"deposit\",amount)\n",
    "        else:\n",
    "            raise ValueError(\"Deposit amount must be positive\")\n",
    "            \n",
    "    def withdraw(self, amount):\n",
    "        if self._is_valid_amount(amount):\n",
    "            if amount >= self.balance:\n",
    "                raise ValueError(\"Insufficient Funds\")\n",
    "            else:\n",
    "                self._balance -= amount\n",
    "                self.__log_transaction(\"withdraw\",amount)\n",
    "        else:\n",
    "            raise ValueError(\"Withdraw amount must be positive\")\n",
    "    \n",
    "account = bank_account()\n",
    "print(account.balance)\n",
    "#account.balance =-1\n",
    "account.deposit(200)\n",
    "# print(account.balance)\n",
    "account.withdraw(100)\n",
    "# print(account.balance)"
   ]
  },
  {
   "cell_type": "markdown",
   "id": "9cb47f21",
   "metadata": {
    "slideshow": {
     "slide_type": "slide"
    }
   },
   "source": [
    "## Abstraction\n",
    "\n",
    "Reduce complexity by hiding unnecessary details"
   ]
  },
  {
   "cell_type": "code",
   "execution_count": 43,
   "id": "2d11f156",
   "metadata": {},
   "outputs": [
    {
     "name": "stdout",
     "output_type": "stream",
     "text": [
      "Connecting to email server\n",
      "Authenticating\n",
      "Sending Email\n",
      "Disconnecting from email server\n"
     ]
    }
   ],
   "source": [
    "class email_service:\n",
    "    def _connect(self):\n",
    "        print(\"Connecting to email server\")\n",
    "    \n",
    "    def _auth(self):\n",
    "        print(\"Authenticating\")\n",
    "    \n",
    "    def _disconnect(self):\n",
    "        print(\"Disconnecting from email server\")\n",
    "    \n",
    "    def send_email(self):\n",
    "        self._connect()\n",
    "        self._auth()\n",
    "        print(\"Sending Email\")\n",
    "        self._disconnect()\n",
    "\n",
    "email = email_service()\n",
    "email.send_email()"
   ]
  },
  {
   "cell_type": "markdown",
   "id": "f6967f54",
   "metadata": {
    "slideshow": {
     "slide_type": "notes"
    }
   },
   "source": [
    "Encapsulation is often used to support abstraction\n",
    "Diff:\n",
    "    - Enc: Focus on bundling of items into single class, Controlled interface via public methods. Enables abstraction\n",
    "    - Abs: Simplified high level interface"
   ]
  },
  {
   "cell_type": "markdown",
   "id": "19899bb2",
   "metadata": {
    "slideshow": {
     "slide_type": "slide"
    }
   },
   "source": [
    "## Inheritance\n",
    "\n",
    "- It involves creating new classess (subclasses or derived classes) based on existing classes( superclasses or base class\n",
    "- Example:\\\n",
    "    -- A car is-a vehicle\\\n",
    "    -- A bike is-a vehicle"
   ]
  },
  {
   "cell_type": "code",
   "execution_count": 44,
   "id": "266af9c5",
   "metadata": {
    "slideshow": {
     "slide_type": "subslide"
    }
   },
   "outputs": [],
   "source": [
    "class vehicle:\n",
    "    def __init__(self, brand, model, year):\n",
    "        self.brand = brand\n",
    "        self.model = model\n",
    "        self.year = year\n",
    "    def start(self):\n",
    "        print(\"Vehicle is starting\")\n",
    "    def stop(self):\n",
    "        print(\"Vehicle is stopping\")"
   ]
  },
  {
   "cell_type": "code",
   "execution_count": 52,
   "id": "a6eca437",
   "metadata": {
    "slideshow": {
     "slide_type": "subslide"
    }
   },
   "outputs": [],
   "source": [
    "class car(vehicle):\n",
    "    def __init__(self, brand, model, year, number_of_doors):\n",
    "        super().__init__(brand, model, year)\n",
    "        self.number_of_doors = number_of_doors"
   ]
  },
  {
   "cell_type": "code",
   "execution_count": 53,
   "id": "c70bf17b",
   "metadata": {
    "slideshow": {
     "slide_type": "subslide"
    }
   },
   "outputs": [],
   "source": [
    "class bike(vehicle):\n",
    "    def __init__(self, brand, model, year, number_of_wheels):\n",
    "        super().__init__(brand, model, year)\n",
    "        self.number_of_wheels = number_of_wheels"
   ]
  },
  {
   "cell_type": "code",
   "execution_count": 56,
   "id": "db97fbb4",
   "metadata": {
    "slideshow": {
     "slide_type": "subslide"
    }
   },
   "outputs": [
    {
     "name": "stdout",
     "output_type": "stream",
     "text": [
      "{'__module__': '__main__', '__init__': <function car.__init__ at 0x000001D94BE4ACA0>, '__doc__': None}\n",
      "{'__module__': '__main__', '__init__': <function bike.__init__ at 0x000001D94BE4A700>, '__doc__': None}\n",
      "Vehicle is starting\n",
      "Vehicle is starting\n"
     ]
    }
   ],
   "source": [
    "car1 = car(\"Ford\",\"Focus\",2008,4)\n",
    "bike1 = bike(\"Honda\",\"Scoty\",2005,2)\n",
    "print(car.__dict__)\n",
    "print(bike.__dict__)\n",
    "car1.start()\n",
    "bike1.start()"
   ]
  },
  {
   "cell_type": "markdown",
   "id": "9f047fcb",
   "metadata": {
    "slideshow": {
     "slide_type": "slide"
    }
   },
   "source": [
    "## Polymorphism\n",
    "\n",
    "Poly = many \\\n",
    "Morph = foms"
   ]
  },
  {
   "cell_type": "code",
   "execution_count": 57,
   "id": "8cad4e6f",
   "metadata": {
    "slideshow": {
     "slide_type": "subslide"
    }
   },
   "outputs": [],
   "source": [
    "class car:\n",
    "    def __init__(self, brand, model, year, number_of_doors):\n",
    "        self.brand = brand\n",
    "        self.model = model\n",
    "        self.year = year\n",
    "        self.number_of_doors = number_of_doors\n",
    "    \n",
    "    def start(self):\n",
    "        print(\"Car is starting\")\n",
    "    \n",
    "    def stop(self):\n",
    "        print(\"Car is stoping\")"
   ]
  },
  {
   "cell_type": "code",
   "execution_count": 61,
   "id": "da401d23",
   "metadata": {
    "slideshow": {
     "slide_type": "subslide"
    }
   },
   "outputs": [],
   "source": [
    "class motorcycle:\n",
    "    def __init__(self, brand, model, year):\n",
    "        self.brand = brand\n",
    "        self.model = model\n",
    "        self.year = year\n",
    "        \n",
    "    \n",
    "    def start_bike(self):\n",
    "        print(\"Motorcycle is starting\")\n",
    "    \n",
    "    def stop_bike(self):\n",
    "        print(\"Motorcycle is stoping\")"
   ]
  },
  {
   "cell_type": "code",
   "execution_count": 65,
   "id": "73a5c246",
   "metadata": {
    "slideshow": {
     "slide_type": "subslide"
    }
   },
   "outputs": [
    {
     "name": "stdout",
     "output_type": "stream",
     "text": [
      "Inspecting Ford Focus (car)\n",
      "Car is starting\n",
      "Car is stoping\n",
      "Inspecting Hero Splender (motorcycle)\n",
      "Motorcycle is starting\n",
      "Motorcycle is stoping\n"
     ]
    }
   ],
   "source": [
    "# Create list of vehicles to inspect\n",
    "vehicles =[\n",
    "    car(\"Ford\",\"Focus\",2008,5),\n",
    "    motorcycle(\"Hero\",\"Splender\",2010)\n",
    "]\n",
    "\n",
    "for vehicle in vehicles:\n",
    "    # vehicle.start() # is not avialable\n",
    "    # One way finding instance and trying out\n",
    "    if isinstance(vehicle, car):\n",
    "        print(f\"Inspecting {vehicle.brand} {vehicle.model} ({type(vehicle).__name__})\")\n",
    "        vehicle.start()\n",
    "        vehicle.stop()\n",
    "    elif isinstance(vehicle, motorcycle):\n",
    "        print(f\"Inspecting {vehicle.brand} {vehicle.model} ({type(vehicle).__name__})\")\n",
    "        vehicle.start_bike()\n",
    "        vehicle.stop_bike()"
   ]
  },
  {
   "cell_type": "code",
   "execution_count": 76,
   "id": "7119632f",
   "metadata": {
    "slideshow": {
     "slide_type": "subslide"
    }
   },
   "outputs": [],
   "source": [
    "class vehicle:\n",
    "    def __init__(self, brand, model, year):\n",
    "        self.brand = brand\n",
    "        self.model = model\n",
    "        self.year = year\n",
    "    \n",
    "    def start(self):\n",
    "        print(\"Vehicle is starting\")\n",
    "    \n",
    "    def stop(self):\n",
    "        print(\"Vehicle is stoping\")"
   ]
  },
  {
   "cell_type": "code",
   "execution_count": 77,
   "id": "8289e672",
   "metadata": {},
   "outputs": [],
   "source": [
    "class car(vehicle):\n",
    "    def __init__(self, brand, model, year, number_of_doors):\n",
    "        super().__init__(brand, model, year)\n",
    "        self.number_of_doors = number_of_doors\n",
    "    \n",
    "#     def start(self):\n",
    "#         print(\"Car is starting\")\n",
    "    \n",
    "#     def stop(self):\n",
    "#         print(\"Car is stoping\")"
   ]
  },
  {
   "cell_type": "code",
   "execution_count": 78,
   "id": "25963fc2",
   "metadata": {},
   "outputs": [],
   "source": [
    "class motorcycle(vehicle):\n",
    "    def __init__(self, brand, model, year):\n",
    "        super().__init__(brand, model, year)\n",
    "        \n",
    "    \n",
    "#     def start_bike(self):\n",
    "#         print(\"Motorcycle is starting\")\n",
    "    \n",
    "#     def stop_bike(self):\n",
    "#         print(\"Motorcycle is stoping\")"
   ]
  },
  {
   "cell_type": "code",
   "execution_count": 79,
   "id": "34f2c9d8",
   "metadata": {
    "slideshow": {
     "slide_type": "subslide"
    }
   },
   "outputs": [
    {
     "name": "stdout",
     "output_type": "stream",
     "text": [
      "Inspecting Ford Focus (car)\n",
      "Vehicle is starting\n",
      "Vehicle is stoping\n",
      "Inspecting Hero Splender (motorcycle)\n",
      "Vehicle is starting\n",
      "Vehicle is stoping\n"
     ]
    }
   ],
   "source": [
    "# Create list of vehicles to inspect\n",
    "vehicles =[\n",
    "    car(\"Ford\",\"Focus\",2008,5),\n",
    "    motorcycle(\"Hero\",\"Splender\",2010)\n",
    "]\n",
    "\n",
    "for vehicle in vehicles:\n",
    "    # vehicle.start() # is not avialable\n",
    "    # One way finding instance and trying out\n",
    "    print(f\"Inspecting {vehicle.brand} {vehicle.model} ({type(vehicle).__name__})\")\n",
    "    vehicle.start()\n",
    "    vehicle.stop()"
   ]
  },
  {
   "cell_type": "markdown",
   "id": "c31761b9",
   "metadata": {
    "slideshow": {
     "slide_type": "notes"
    }
   },
   "source": [
    "Update methods to extend and execute to see inhertiance"
   ]
  },
  {
   "cell_type": "code",
   "execution_count": null,
   "id": "c1a520c1",
   "metadata": {},
   "outputs": [],
   "source": []
  }
 ],
 "metadata": {
  "celltoolbar": "Slideshow",
  "kernelspec": {
   "display_name": "Python 3 (ipykernel)",
   "language": "python",
   "name": "python3"
  },
  "language_info": {
   "codemirror_mode": {
    "name": "ipython",
    "version": 3
   },
   "file_extension": ".py",
   "mimetype": "text/x-python",
   "name": "python",
   "nbconvert_exporter": "python",
   "pygments_lexer": "ipython3",
   "version": "3.12.10"
  }
 },
 "nbformat": 4,
 "nbformat_minor": 5
}
